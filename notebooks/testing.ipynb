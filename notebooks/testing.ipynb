{
 "cells": [
  {
   "cell_type": "code",
   "execution_count": 3,
   "metadata": {},
   "outputs": [],
   "source": [
    "import sys\n",
    "import torch"
   ]
  },
  {
   "cell_type": "code",
   "execution_count": 4,
   "metadata": {},
   "outputs": [],
   "source": [
    "sys.path.append('../')"
   ]
  },
  {
   "cell_type": "code",
   "execution_count": 5,
   "metadata": {},
   "outputs": [],
   "source": [
    "from vt_captioning.vt_resnet import vt_resnet50"
   ]
  },
  {
   "cell_type": "code",
   "execution_count": 6,
   "metadata": {},
   "outputs": [],
   "source": [
    "feature_extractor = vt_resnet50(\n",
    "            pretrained=True,\n",
    "            freeze='full_freeze',\n",
    "            tokens=16,\n",
    "            token_channels=128,\n",
    "            input_dim=1024,\n",
    "            vt_channels=2048,\n",
    "            transformer_enc_layers=2,\n",
    "            transformer_heads=8,\n",
    "            transformer_fc_dim=2048,\n",
    "            image_channels=3,\n",
    "        ).to('cuda')"
   ]
  },
  {
   "cell_type": "code",
   "execution_count": 7,
   "metadata": {},
   "outputs": [],
   "source": [
    "from transformers import AutoTokenizer"
   ]
  },
  {
   "cell_type": "code",
   "execution_count": 8,
   "metadata": {},
   "outputs": [],
   "source": [
    "tokenizer = AutoTokenizer.from_pretrained(\"bert-base-uncased\")"
   ]
  },
  {
   "cell_type": "code",
   "execution_count": 9,
   "metadata": {},
   "outputs": [],
   "source": [
    "VOCAB_SIZE = len(tokenizer)"
   ]
  },
  {
   "cell_type": "code",
   "execution_count": 10,
   "metadata": {},
   "outputs": [],
   "source": [
    "from transformer_code.vt_captioning import VTCaptionModel"
   ]
  },
  {
   "cell_type": "code",
   "execution_count": 11,
   "metadata": {},
   "outputs": [],
   "source": [
    "model = VTCaptionModel(feature_extractor, num_layers = 4, d_model = 512, num_heads = 8, dff = 2048, row_size = 1, col_size = 1, target_vocab_size = VOCAB_SIZE, max_pos_encoding=VOCAB_SIZE, rate=0.2).to('cuda')"
   ]
  },
  {
   "cell_type": "code",
   "execution_count": 12,
   "metadata": {},
   "outputs": [
    {
     "data": {
      "text/plain": [
       "<All keys matched successfully>"
      ]
     },
     "execution_count": 12,
     "metadata": {},
     "output_type": "execute_result"
    }
   ],
   "source": [
    "model.load_state_dict(torch.load('../../VTResCaptioner.pt'))"
   ]
  },
  {
   "cell_type": "code",
   "execution_count": 13,
   "metadata": {},
   "outputs": [],
   "source": [
    "import pandas as pd\n"
   ]
  },
  {
   "cell_type": "code",
   "execution_count": 14,
   "metadata": {},
   "outputs": [],
   "source": [
    "dataset = pd.read_csv('../test.csv')"
   ]
  },
  {
   "cell_type": "code",
   "execution_count": 15,
   "metadata": {},
   "outputs": [],
   "source": [
    "from PIL import Image"
   ]
  },
  {
   "cell_type": "code",
   "execution_count": 16,
   "metadata": {},
   "outputs": [],
   "source": [
    "import torchvision"
   ]
  },
  {
   "cell_type": "code",
   "execution_count": 17,
   "metadata": {},
   "outputs": [],
   "source": [
    "transform = torchvision.transforms.Compose([\n",
    "     torchvision.transforms.Resize((300, 300)),\n",
    "     torchvision.transforms.ToTensor(),\n",
    "     torchvision.transforms.Normalize((0.485, 0.456, 0.406), (0.229, 0.224, 0.225))])"
   ]
  },
  {
   "cell_type": "code",
   "execution_count": null,
   "metadata": {},
   "outputs": [],
   "source": [
    "tokenizer.all_special_tokens"
   ]
  },
  {
   "cell_type": "code",
   "execution_count": 19,
   "metadata": {},
   "outputs": [],
   "source": [
    "from transformer_code.mha import create_look_ahead_mask, create_padding_mask\n",
    "\n",
    "def create_masks_decoder(tar):\n",
    "    look_ahead_mask = create_look_ahead_mask(tar.size(1)).to('cuda')\n",
    "    dec_target_padding_mask = create_padding_mask(tar)\n",
    "\n",
    "    combined_mask = torch.max(dec_target_padding_mask.unsqueeze(1), look_ahead_mask)\n",
    "    return combined_mask"
   ]
  },
  {
   "cell_type": "code",
   "execution_count": 20,
   "metadata": {},
   "outputs": [],
   "source": [
    "import torch\n",
    "\n",
    "def evaluate(image):\n",
    "\n",
    "    input = transform(image).unsqueeze(0).to(\"cuda\") \n",
    "\n",
    "    decoder_input = [\"[CLS]\"] + [\"[PAD]\"] * 128\n",
    "    \n",
    "    decoder_input = tokenizer(decoder_input, add_special_tokens = False, return_tensors=\"pt\")[\"input_ids\"].to(\"cuda\").permute(1,0)\n",
    "\n",
    "    result = []  # Word list\n",
    "\n",
    "    for i in range(128):\n",
    "        with torch.no_grad():\n",
    "            dec_mask = create_masks_decoder(decoder_input).to(\"cuda\")\n",
    "            predictions, _ = model(input, decoder_input, dec_mask)\n",
    "\n",
    "            \n",
    "            predicted_id = torch.argmax(predictions.permute(0,2,1), dim=-1)[0][i].item()\n",
    "            \n",
    "            if tokenizer.decode(predicted_id) == \"[SEP]\" or tokenizer.decode(predicted_id) == \"[PAD]\":\n",
    "                return result\n",
    "\n",
    "            result.append(tokenizer.decode(predicted_id))\n",
    "        \n",
    "            decoder_input[0, i+1] = predicted_id\n",
    "\n",
    "    return result"
   ]
  },
  {
   "cell_type": "code",
   "execution_count": null,
   "metadata": {},
   "outputs": [],
   "source": [
    "evaluate(Image.open(\"../\" + dataset.image_file[1]))"
   ]
  },
  {
   "cell_type": "code",
   "execution_count": 22,
   "metadata": {},
   "outputs": [],
   "source": [
    "from nltk.translate.bleu_score import sentence_bleu"
   ]
  },
  {
   "cell_type": "code",
   "execution_count": null,
   "metadata": {},
   "outputs": [],
   "source": [
    "bleu_scores = {\"bleu1: \": [], \"bleu2\" : [], \"bleu3\" : [], \"bleu4\" : []}    \n",
    "\n",
    "for x in range(100):\n",
    "    image = Image.open(\"../\" + dataset[\"image_file\"][x])\n",
    "\n",
    "    score1 = sentence_bleu([dataset[\"captions\"][x].split()], evaluate(image), weights=(1.0, 0, 0, 0))\n",
    "    score2 = sentence_bleu([dataset[\"captions\"][x].split()], evaluate(image), weights=(0.5, 0.5, 0, 0))\n",
    "    score3 = sentence_bleu([dataset[\"captions\"][x].split()], evaluate(image), weights=(0.33, 0.33, 0, 0))\n",
    "    score4 = sentence_bleu([dataset[\"captions\"][x].split()], evaluate(image), weights=(0.25, 0.25, 0.25, 0.25))\n",
    "    \n",
    "    bleu_scores[\"bleu1\"].append(score1)\n",
    "    bleu_scores[\"blue2\"].append(score2)\n",
    "    bleu_scores[\"blue3\"].append(score3)\n",
    "    bleu_scores[\"blue4\"].append(score4)\n"
   ]
  },
  {
   "cell_type": "code",
   "execution_count": null,
   "metadata": {},
   "outputs": [],
   "source": [
    "import json"
   ]
  },
  {
   "cell_type": "code",
   "execution_count": null,
   "metadata": {},
   "outputs": [],
   "source": [
    "with open('bleu_scores.json', 'w') as fp:\n",
    "    json.dump(bleu_scores, fp)"
   ]
  }
 ],
 "metadata": {
  "kernelspec": {
   "display_name": "VTCaptioningEnv",
   "language": "python",
   "name": "python3"
  },
  "language_info": {
   "codemirror_mode": {
    "name": "ipython",
    "version": 3
   },
   "file_extension": ".py",
   "mimetype": "text/x-python",
   "name": "python",
   "nbconvert_exporter": "python",
   "pygments_lexer": "ipython3",
   "version": "3.11.5"
  }
 },
 "nbformat": 4,
 "nbformat_minor": 2
}
