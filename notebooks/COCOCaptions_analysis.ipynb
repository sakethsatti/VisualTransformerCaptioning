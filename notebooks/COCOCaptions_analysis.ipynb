{
 "cells": [
  {
   "cell_type": "code",
   "execution_count": null,
   "id": "a2fdac87-360f-4ac4-89c9-395f15bc374a",
   "metadata": {},
   "outputs": [],
   "source": [
    "import json"
   ]
  },
  {
   "cell_type": "code",
   "execution_count": null,
   "id": "a417f96c-db4b-4e48-8a7e-3fc1dfbd4a0b",
   "metadata": {},
   "outputs": [],
   "source": [
    "with open(\"../../cocoannotations/captions_train2014.json\", \"r\") as f: \n",
    "    annotations = json.load(f)"
   ]
  },
  {
   "cell_type": "code",
   "execution_count": null,
   "id": "cfe9ee16-f36d-47dc-92af-b4b5c83a38c2",
   "metadata": {},
   "outputs": [],
   "source": [
    "annotations.keys()"
   ]
  },
  {
   "cell_type": "code",
   "execution_count": null,
   "id": "321c8033-c8ac-4aed-9174-53f2fdf06601",
   "metadata": {},
   "outputs": [],
   "source": [
    "annotations[\"annotations\"]"
   ]
  },
  {
   "cell_type": "code",
   "execution_count": null,
   "id": "4017ed6f-a6c8-48a7-ac1c-810b77bb6d2b",
   "metadata": {},
   "outputs": [],
   "source": [
    "image_id = str(annotations[\"annotations\"][0][\"image_id\"])\n",
    "image_id = \"COCO_train2014_\" + (\"0\" * (12 - len(image_id))) + image_id + \".jpg\""
   ]
  },
  {
   "cell_type": "code",
   "execution_count": null,
   "id": "464e50a3-eb7d-463d-827c-0cf133a63914",
   "metadata": {},
   "outputs": [],
   "source": [
    "file_names = []\n",
    "captions = []\n",
    "\n",
    "for dict_data in annotations[\"annotations\"]:\n",
    "    image_id = str(dict_data[\"image_id\"])\n",
    "    image_id = \"COCO_train2014_\" + (\"0\" * (12 - len(image_id))) + image_id + \".jpg\"\n",
    "    \n",
    "    file_names.append(image_id)\n",
    "    captions.append(dict_data[\"caption\"])"
   ]
  },
  {
   "cell_type": "code",
   "execution_count": null,
   "id": "b49e41a7-9d34-4c05-a693-cb49c6177306",
   "metadata": {},
   "outputs": [],
   "source": [
    "len(file_names)"
   ]
  },
  {
   "cell_type": "code",
   "execution_count": null,
   "id": "fab11f19-22c5-41a8-92e0-26af1bc0eebb",
   "metadata": {},
   "outputs": [],
   "source": [
    "from PIL import Image"
   ]
  },
  {
   "cell_type": "code",
   "execution_count": null,
   "id": "e5a2a527-6e69-49e8-8163-ff3a7d5bb6f0",
   "metadata": {},
   "outputs": [],
   "source": [
    "Image.open(\"../../train2014/\" + file_names[2000])"
   ]
  },
  {
   "cell_type": "code",
   "execution_count": null,
   "id": "7d18a8d9-10c5-4d81-b6b7-7f5d7b3d9635",
   "metadata": {},
   "outputs": [],
   "source": [
    "captions[2000]"
   ]
  },
  {
   "cell_type": "code",
   "execution_count": null,
   "id": "59ec5655-10ce-46ef-ae85-8c172a83bcdc",
   "metadata": {},
   "outputs": [],
   "source": []
  }
 ],
 "metadata": {
  "kernelspec": {
   "display_name": "Python 3 (ipykernel)",
   "language": "python",
   "name": "python3"
  },
  "language_info": {
   "codemirror_mode": {
    "name": "ipython",
    "version": 3
   },
   "file_extension": ".py",
   "mimetype": "text/x-python",
   "name": "python",
   "nbconvert_exporter": "python",
   "pygments_lexer": "ipython3",
   "version": "3.11.5"
  }
 },
 "nbformat": 4,
 "nbformat_minor": 5
}
