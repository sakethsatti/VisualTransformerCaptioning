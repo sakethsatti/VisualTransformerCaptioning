{
  "cells": [
    {
      "cell_type": "code",
      "execution_count": null,
      "metadata": {
        "id": "prInQAySR0LF"
      },
      "outputs": [],
      "source": [
        "!pip install einops\n",
        "!pip install Pillow\n",
        "!pip install torch torchvision torchaudio --index-url https://download.pytorch.org/whl/cpu"
      ]
    },
    {
      "cell_type": "code",
      "execution_count": null,
      "metadata": {
        "id": "jXdgDRgjWNH-"
      },
      "outputs": [],
      "source": [
        "import PIL\n",
        "import time\n",
        "import torch\n",
        "import torchvision\n",
        "import torch.nn.functional as F\n",
        "from einops import rearrange\n",
        "from torch import nn\n",
        "import torch.nn.init as init"
      ]
    },
    {
      "cell_type": "code",
      "execution_count": null,
      "metadata": {
        "id": "FlRtfYh5R7Mx"
      },
      "outputs": [],
      "source": [
        "def _weights_init(m):\n",
        "    classname = m.__class__.__name__\n",
        "    #print(classname)\n",
        "    if isinstance(m, nn.Linear) or isinstance(m, nn.Conv2d):\n",
        "        init.kaiming_normal_(m.weight)"
      ]
    },
    {
      "cell_type": "code",
      "execution_count": null,
      "metadata": {
        "id": "DYWk2fhUoL02"
      },
      "outputs": [],
      "source": [
        "class LambdaLayer(nn.Module):\n",
        "    def __init__(self, lambd):\n",
        "        super(LambdaLayer, self).__init__()\n",
        "        self.lambd = lambd\n",
        "\n",
        "    def forward(self, x):\n",
        "        return self.lambd(x)"
      ]
    },
    {
      "cell_type": "code",
      "execution_count": null,
      "metadata": {
        "id": "gVIJzkzhoNRB"
      },
      "outputs": [],
      "source": [
        "class BasicBlock(nn.Module):\n",
        "    expansion = 1\n",
        "\n",
        "    def __init__(self, in_planes, planes, stride=1, option='A'):\n",
        "        super(BasicBlock, self).__init__()\n",
        "        self.conv1 = nn.Conv2d(in_planes, planes, kernel_size=3, stride=stride, padding=1, bias=False)\n",
        "        self.bn1 = nn.BatchNorm2d(planes)\n",
        "        self.conv2 = nn.Conv2d(planes, planes, kernel_size=3, stride=1, padding=1, bias=False)\n",
        "        self.bn2 = nn.BatchNorm2d(planes)\n",
        "\n",
        "        self.shortcut = nn.Sequential()\n",
        "        if stride != 1 or in_planes != planes:\n",
        "            if option == 'A':\n",
        "\n",
        "                self.shortcut = LambdaLayer(lambda x:\n",
        "                                            F.pad(x[:, :, ::2, ::2], (0, 0, 0, 0, planes//4, planes//4), \"constant\", 0))\n",
        "            elif option == 'B':\n",
        "                self.shortcut = nn.Sequential(\n",
        "                     nn.Conv2d(in_planes, self.expansion * planes, kernel_size=1, stride=stride, bias=False),\n",
        "                     nn.BatchNorm2d(self.expansion * planes)\n",
        "                )\n",
        "\n",
        "    def forward(self, x):\n",
        "        out = F.relu(self.bn1(self.conv1(x)))\n",
        "        out = self.bn2(self.conv2(out))\n",
        "        out += self.shortcut(x)\n",
        "        out = F.relu(out)\n",
        "        #print(out.size())\n",
        "        return out\n"
      ]
    },
    {
      "cell_type": "code",
      "execution_count": null,
      "metadata": {
        "id": "wAWhXfD3oRMD"
      },
      "outputs": [],
      "source": [
        "class Residual(nn.Module):\n",
        "    def __init__(self, fn):\n",
        "        super().__init__()\n",
        "        self.fn = fn\n",
        "    def forward(self, x, **kwargs):\n",
        "        return self.fn(x, **kwargs) + x"
      ]
    },
    {
      "cell_type": "code",
      "execution_count": null,
      "metadata": {
        "id": "h9rQEuOYoaUA"
      },
      "outputs": [],
      "source": [
        "class LayerNormalize(nn.Module):\n",
        "    def __init__(self, dim, fn):\n",
        "        super().__init__()\n",
        "        self.norm = nn.LayerNorm(dim)\n",
        "        self.fn = fn\n",
        "    def forward(self, x, **kwargs):\n",
        "        return self.fn(self.norm(x), **kwargs)"
      ]
    },
    {
      "cell_type": "code",
      "execution_count": null,
      "metadata": {
        "id": "UKSmjl_robob"
      },
      "outputs": [],
      "source": [
        "class MLP_Block(nn.Module):\n",
        "    def __init__(self, dim, hidden_dim, dropout = 0.1):\n",
        "        super().__init__()\n",
        "        self.nn1 = nn.Linear(dim, hidden_dim)\n",
        "        torch.nn.init.xavier_uniform_(self.nn1.weight)\n",
        "        torch.nn.init.normal_(self.nn1.bias, std = 1e-6)\n",
        "        self.af1 = nn.GELU()\n",
        "        self.do1 = nn.Dropout(dropout)\n",
        "        self.nn2 = nn.Linear(hidden_dim, dim)\n",
        "        torch.nn.init.xavier_uniform_(self.nn2.weight)\n",
        "        torch.nn.init.normal_(self.nn2.bias, std = 1e-6)\n",
        "        self.do2 = nn.Dropout(dropout)\n",
        "\n",
        "    def forward(self, x):\n",
        "        x = self.nn1(x)\n",
        "        x = self.af1(x)\n",
        "        x = self.do1(x)\n",
        "        x = self.nn2(x)\n",
        "        x = self.do2(x)\n",
        "\n",
        "        return x"
      ]
    },
    {
      "cell_type": "code",
      "execution_count": null,
      "metadata": {
        "id": "pg-LO1kWodSK"
      },
      "outputs": [],
      "source": [
        "class Attention(nn.Module):\n",
        "    def __init__(self, dim, heads = 8, dropout = 0.1):\n",
        "        super().__init__()\n",
        "        self.heads = heads\n",
        "        self.scale = dim ** -0.5  # 1/sqrt(dim)\n",
        "\n",
        "        self.to_qkv = nn.Linear(dim, dim * 3, bias = True) # Wq,Wk,Wv for each vector, thats why *3\n",
        "        torch.nn.init.xavier_uniform_(self.to_qkv.weight)\n",
        "        torch.nn.init.zeros_(self.to_qkv.bias)\n",
        "\n",
        "        self.nn1 = nn.Linear(dim, dim)\n",
        "        torch.nn.init.xavier_uniform_(self.nn1.weight)\n",
        "        torch.nn.init.zeros_(self.nn1.bias)\n",
        "        self.do1 = nn.Dropout(dropout)\n",
        "\n",
        "\n",
        "    def forward(self, x, mask = None):\n",
        "        b, n, _, h = *x.shape, self.heads\n",
        "        qkv = self.to_qkv(x) #gets q = Q = Wq matmul x1, k = Wk mm x2, v = Wv mm x3\n",
        "        q, k, v = rearrange(qkv, 'b n (qkv h d) -> qkv b h n d', qkv = 3, h = h) # split into multi head attentions\n",
        "\n",
        "        dots = torch.einsum('bhid,bhjd->bhij', q, k) * self.scale\n",
        "\n",
        "        if mask is not None:\n",
        "            mask = F.pad(mask.flatten(1), (1, 0), value = True)\n",
        "            assert mask.shape[-1] == dots.shape[-1], 'mask has incorrect dimensions'\n",
        "            mask = mask[:, None, :] * mask[:, :, None]\n",
        "            dots.masked_fill_(~mask, float('-inf'))\n",
        "            del mask\n",
        "\n",
        "        attn = dots.softmax(dim=-1) #follow the softmax,q,d,v equation in the paper\n",
        "\n",
        "        out = torch.einsum('bhij,bhjd->bhid', attn, v) #product of v times whatever inside softmax\n",
        "        out = rearrange(out, 'b h n d -> b n (h d)') #concat heads into one matrix, ready for next encoder block\n",
        "        out =  self.nn1(out)\n",
        "        out = self.do1(out)\n",
        "        return out"
      ]
    },
    {
      "cell_type": "code",
      "execution_count": null,
      "metadata": {
        "id": "IVUEyKRTofc-"
      },
      "outputs": [],
      "source": [
        "class Transformer(nn.Module):\n",
        "    def __init__(self, dim, depth, heads, mlp_dim, dropout):\n",
        "        super().__init__()\n",
        "        self.layers = nn.ModuleList([])\n",
        "        for _ in range(depth):\n",
        "            self.layers.append(nn.ModuleList([\n",
        "                Residual(LayerNormalize(dim, Attention(dim, heads = heads, dropout = dropout))),\n",
        "                Residual(LayerNormalize(dim, MLP_Block(dim, mlp_dim, dropout = dropout)))\n",
        "            ]))\n",
        "    def forward(self, x, mask = None):\n",
        "        for attention, mlp in self.layers:\n",
        "            x = attention(x, mask = mask) # go to attention\n",
        "            x = mlp(x) #go to MLP_Block\n",
        "        return x\n"
      ]
    },
    {
      "cell_type": "code",
      "execution_count": null,
      "metadata": {
        "id": "NIM-2uLBog4e"
      },
      "outputs": [],
      "source": [
        "class ViTResNet(nn.Module):\n",
        "    def __init__(self, block, num_blocks, num_classes=10, dim = 128, num_tokens = 8, mlp_dim = 256, heads = 8, depth = 6, emb_dropout = 0.1, dropout= 0.1):\n",
        "        super(ViTResNet, self).__init__()\n",
        "        self.in_planes = 16\n",
        "        self.L = num_tokens\n",
        "        self.cT = dim\n",
        "\n",
        "        self.conv1 = nn.Conv2d(3, 16, kernel_size=3, stride=1, padding=1, bias=False)\n",
        "        self.bn1 = nn.BatchNorm2d(16)\n",
        "        self.layer1 = self._make_layer(block, 16, num_blocks[0], stride=1)\n",
        "        self.layer2 = self._make_layer(block, 32, num_blocks[1], stride=2)\n",
        "        self.layer3 = self._make_layer(block, 64, num_blocks[2], stride=2) #8x8 feature maps (64 in total)\n",
        "        self.apply(_weights_init)\n",
        "\n",
        "\n",
        "        # Tokenization\n",
        "        self.token_wA = nn.Parameter(torch.empty(BATCH_SIZE_TRAIN,self.L, 64),requires_grad = True) #Tokenization parameters\n",
        "        torch.nn.init.xavier_uniform_(self.token_wA)\n",
        "        self.token_wV = nn.Parameter(torch.empty(BATCH_SIZE_TRAIN,64,self.cT),requires_grad = True) #Tokenization parameters\n",
        "        torch.nn.init.xavier_uniform_(self.token_wV)\n",
        "\n",
        "\n",
        "        self.pos_embedding = nn.Parameter(torch.empty(1, (num_tokens + 1), dim))\n",
        "        torch.nn.init.normal_(self.pos_embedding, std = .02) # initialized based on the paper\n",
        "\n",
        "        #self.patch_conv= nn.Conv2d(64,dim, self.patch_size, stride = self.patch_size)\n",
        "\n",
        "        self.cls_token = nn.Parameter(torch.zeros(1, 1, dim)) #initialized based on the paper\n",
        "        self.dropout = nn.Dropout(emb_dropout)\n",
        "\n",
        "        self.transformer = Transformer(dim, depth, heads, mlp_dim, dropout)\n",
        "\n",
        "        self.to_cls_token = nn.Identity()\n",
        "\n",
        "        self.nn1 = nn.Linear(dim, num_classes)  # if finetuning, just use a linear layer without further hidden layers (paper)\n",
        "        torch.nn.init.xavier_uniform_(self.nn1.weight)\n",
        "        torch.nn.init.normal_(self.nn1.bias, std = 1e-6)\n",
        "\n",
        "\n",
        "    def _make_layer(self, block, planes, num_blocks, stride):\n",
        "        strides = [stride] + [1]*(num_blocks-1)\n",
        "        layers = []\n",
        "        for stride in strides:\n",
        "            layers.append(block(self.in_planes, planes, stride))\n",
        "            self.in_planes = planes * block.expansion\n",
        "\n",
        "        return nn.Sequential(*layers)\n",
        "\n",
        "\n",
        "\n",
        "    def forward(self, img, mask = None):\n",
        "        x = F.relu(self.bn1(self.conv1(img)))\n",
        "        x = self.layer1(x)\n",
        "        x = self.layer2(x)\n",
        "        x = self.layer3(x)\n",
        "\n",
        "        x = rearrange(x, 'b c h w -> b (h w) c') # 64 vectors each with 64 points. These are the sequences or word vecotrs like in NLP\n",
        "\n",
        "        #Tokenization\n",
        "        wa = rearrange(self.token_wA, 'b h w -> b w h') #Transpose\n",
        "        A= torch.einsum('bij,bjk->bik', x, wa)\n",
        "        A = rearrange(A, 'b h w -> b w h') #Transpose\n",
        "        A = A.softmax(dim=-1)\n",
        "\n",
        "        VV= torch.einsum('bij,bjk->bik', x, self.token_wV)\n",
        "        T = torch.einsum('bij,bjk->bik', A, VV)\n",
        "        #print(T.size())\n",
        "\n",
        "        cls_tokens = self.cls_token.expand(img.shape[0], -1, -1)\n",
        "        x = torch.cat((cls_tokens, T), dim=1)\n",
        "        x += self.pos_embedding\n",
        "        x = self.dropout(x)\n",
        "        x = self.transformer(x, mask) #main game\n",
        "        x = self.to_cls_token(x[:, 0])\n",
        "        x = self.nn1(x)\n",
        "\n",
        "\n",
        "        return x\n"
      ]
    },
    {
      "cell_type": "code",
      "execution_count": null,
      "metadata": {
        "id": "QDIcrmn_ojVa"
      },
      "outputs": [],
      "source": [
        "BATCH_SIZE_TRAIN = 150\n",
        "BATCH_SIZE_TEST = 150\n",
        "\n",
        "DL_PATH = \"SUN397/\" # Use your own path\n",
        "# CIFAR10: 60000 32x32 color images in 10 classes, with 6000 images per class\n",
        "transform = torchvision.transforms.Compose([\n",
        "     torchvision.transforms.Resize((350, 350)),\n",
        "     torchvision.transforms.ToTensor(),\n",
        "     torchvision.transforms.Normalize((0.485, 0.456, 0.406), (0.229, 0.224, 0.225))]) # Works well for image net"
      ]
    },
    {
      "cell_type": "code",
      "execution_count": null,
      "metadata": {
        "id": "TapQlNkKMFUY"
      },
      "outputs": [],
      "source": [
        "train_dataset = torchvision.datasets.CIFAR10(DL_PATH, train=True,\n",
        "                                        download=True, transform=transform)\n",
        "\n",
        "test_dataset = torchvision.datasets.CIFAR10(DL_PATH, train=False,\n",
        "                                       download=True, transform=transform)"
      ]
    },
    {
      "cell_type": "code",
      "execution_count": null,
      "metadata": {
        "id": "MvQQL1CQXaov"
      },
      "outputs": [],
      "source": [
        "train_loader = torch.utils.data.DataLoader(train_dataset, batch_size=BATCH_SIZE_TRAIN,\n",
        "                                          shuffle=True)\n",
        "\n",
        "test_loader = torch.utils.data.DataLoader(test_dataset, batch_size=BATCH_SIZE_TEST,\n",
        "                                         shuffle=False)"
      ]
    },
    {
      "cell_type": "code",
      "execution_count": null,
      "metadata": {
        "id": "YjRoHxgUQHXd"
      },
      "outputs": [],
      "source": [
        "def train(model, optimizer, data_loader, loss_history):\n",
        "    total_samples = len(data_loader.dataset)\n",
        "    model.train()\n",
        "\n",
        "    for i, (data, target) in enumerate(data_loader):\n",
        "        data = data.to(\"cuda:0\")\n",
        "        target = target.to(\"cuda:0\")\n",
        "        optimizer.zero_grad()\n",
        "        output = F.log_softmax(model(data), dim=1)\n",
        "        loss = F.nll_loss(output, target)\n",
        "        loss.backward()\n",
        "        optimizer.step()\n",
        "\n",
        "        if i % 100 == 0:\n",
        "            print('[' +  '{:5}'.format(i * len(data)) + '/' + '{:5}'.format(total_samples) +\n",
        "                  ' (' + '{:3.0f}'.format(100 * i / len(data_loader)) + '%)]  Loss: ' +\n",
        "                  '{:6.4f}'.format(loss.item()))\n",
        "            loss_history.append(loss.item())"
      ]
    },
    {
      "cell_type": "code",
      "execution_count": null,
      "metadata": {
        "id": "7RLTMDeYnr9f"
      },
      "outputs": [],
      "source": [
        "def evaluate(model, data_loader, loss_history):\n",
        "    model.eval()\n",
        "\n",
        "    total_samples = len(data_loader.dataset)\n",
        "    correct_samples = 0\n",
        "    total_loss = 0\n",
        "\n",
        "    with torch.no_grad():\n",
        "        for data, target in data_loader:\n",
        "            data = data.to(\"cuda:0\")\n",
        "            target = target.to(\"cuda:0\")\n",
        "            output = F.log_softmax(model(data), dim=1)\n",
        "            loss = F.nll_loss(output, target, reduction='sum')\n",
        "            _, pred = torch.max(output, dim=1)\n",
        "\n",
        "            total_loss += loss.item()\n",
        "            correct_samples += pred.eq(target).sum()\n",
        "\n",
        "    avg_loss = total_loss / total_samples\n",
        "    loss_history.append(avg_loss)\n",
        "    print('\\nAverage test loss: ' + '{:.4f}'.format(avg_loss) +\n",
        "          '  Accuracy:' + '{:5}'.format(correct_samples) + '/' +\n",
        "          '{:5}'.format(total_samples) + ' (' +\n",
        "          '{:4.2f}'.format(100.0 * correct_samples / total_samples) + '%)\\n')"
      ]
    },
    {
      "cell_type": "code",
      "execution_count": null,
      "metadata": {
        "id": "txXKGkknoaO3"
      },
      "outputs": [],
      "source": []
    },
    {
      "cell_type": "code",
      "execution_count": null,
      "metadata": {
        "id": "ELze0ztIn8Vb"
      },
      "outputs": [],
      "source": [
        "N_EPOCHS = 150\n",
        "\n",
        "\n",
        "model = ViTResNet(BasicBlock, [3, 3, 3])\n",
        "model = model.to(\"cuda:0\")\n",
        "optimizer = torch.optim.Adam(model.parameters(), lr=0.003)\n",
        "\n",
        "#optimizer = torch.optim.SGD(model.parameters(), lr=learning_rate,momentum=.9,weight_decay=1e-4)\n",
        "#lr_scheduler = torch.optim.lr_scheduler.MultiStepLR(optimizer=optimizer, milestones=[35,48],gamma = 0.1)\n",
        "\n",
        "train_loss_history, test_loss_history = [], []\n",
        "\n",
        "for epoch in range(1, N_EPOCHS + 1):\n",
        "    print('Epoch:', epoch)\n",
        "    start_time = time.time()\n",
        "    train(model, optimizer, train_loader, train_loss_history)\n",
        "    print('Execution time:', '{:5.2f}'.format(time.time() - start_time), 'seconds')\n",
        "    evaluate(model, test_loader, test_loss_history)\n",
        "\n",
        "print('Execution time')\n",
        "\n",
        "PATH = \".\\ViTRes.pt\" # Use your own path\n",
        "torch.save(model.state_dict(), PATH)"
      ]
    },
    {
      "cell_type": "code",
      "execution_count": null,
      "metadata": {
        "id": "Gd2yQvRIpIZT"
      },
      "outputs": [],
      "source": []
    }
  ],
  "metadata": {
    "accelerator": "GPU",
    "colab": {
      "gpuType": "T4",
      "private_outputs": true,
      "provenance": []
    },
    "kernelspec": {
      "display_name": "Python 3",
      "name": "python3"
    },
    "language_info": {
      "name": "python"
    }
  },
  "nbformat": 4,
  "nbformat_minor": 0
}
