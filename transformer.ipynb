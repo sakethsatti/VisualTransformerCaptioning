{
 "cells": [
  {
   "cell_type": "code",
   "execution_count": 4,
   "metadata": {},
   "outputs": [],
   "source": [
    "import torch\n",
    "import torch.nn as nn\n",
    "import torch.nn.functional as F"
   ]
  },
  {
   "cell_type": "code",
   "execution_count": 1,
   "metadata": {},
   "outputs": [],
   "source": [
    "def get_angles(pos, i, d_model):\n",
    "    angle_rates = 1 / torch.pow(10000, (2 * (i//2)) / torch.float32(d_model))\n",
    "    return pos * angle_rates"
   ]
  },
  {
   "cell_type": "code",
   "execution_count": 2,
   "metadata": {},
   "outputs": [],
   "source": [
    "def positional_encoding_1d(position, d_model):\n",
    "    pos = torch.arange(position).unsqueeze(1)\n",
    "    i = torch.arange(d_model).unsqueeze(0)\n",
    "\n",
    "    angle_rads = get_angles(pos, i, d_model)\n",
    "\n",
    "    angle_rads[:, 0::2] = torch.sin(angle_rads[:, 0::2])\n",
    "    angle_rads[:, 1::2] = torch.cos(angle_rads[:, 1::2])\n",
    "    pos_encoding = angle_rads.unsqueeze(0)\n",
    "    return pos_encoding.float()"
   ]
  },
  {
   "cell_type": "code",
   "execution_count": 3,
   "metadata": {},
   "outputs": [],
   "source": [
    "def positional_encoding_2d(row, col, d_model):\n",
    "    assert d_model % 2 == 0\n",
    "\n",
    "    row_pos = torch.repeat(torch.arange(row), col).unsqueeze(1)\n",
    "    col_pos = torch.repeat(torch.arange(col).unsqueeze(0), row, dim=0).reshape(-1, 1)\n",
    "\n",
    "    angle_rads_row = get_angles(row_pos, torch.arange(d_model // 2).unsqueeze(0), d_model // 2)\n",
    "    angle_rads_col = get_angles(col_pos, torch.arange(d_model // 2).unsqueeze(0), d_model // 2)\n",
    "\n",
    "    angle_rads_row[:, 0::2] = torch.sin(angle_rads_row[:, 0::2])\n",
    "    angle_rads_row[:, 1::2] = torch.cos(angle_rads_row[:, 1::2])\n",
    "    angle_rads_col[:, 0::2] = torch.sin(angle_rads_col[:, 0::2])\n",
    "    angle_rads_col[:, 1::2] = torch.cos(angle_rads_col[:, 1::2])\n",
    "\n",
    "    pos_encoding = torch.cat([angle_rads_row, angle_rads_col], dim=1).unsqueeze(0)\n",
    "    return pos_encoding.float()"
   ]
  },
  {
   "cell_type": "code",
   "execution_count": 5,
   "metadata": {},
   "outputs": [],
   "source": [
    "def create_padding_mask(seq):\n",
    "    seq = torch.eq(seq, 0).float()\n",
    "    return seq.unsqueeze(1).unsqueeze(2)  # (batch_size, 1, 1, seq_len)"
   ]
  },
  {
   "cell_type": "code",
   "execution_count": 6,
   "metadata": {},
   "outputs": [],
   "source": [
    "def create_look_ahead_mask(size):\n",
    "    mask = 1 - torch.tril(torch.ones(size, size))\n",
    "    return mask  # (seq_len, seq_len)"
   ]
  },
  {
   "cell_type": "code",
   "execution_count": 7,
   "metadata": {},
   "outputs": [],
   "source": [
    "def scaled_dot_product_attention(q, k, v, mask):\n",
    "    matmul_qk = torch.matmul(q, k.transpose(-2, -1))  # (..., seq_len_q, seq_len_k)\n",
    "    dk = torch.tensor(k.size(-1), dtype=torch.float32)\n",
    "    scaled_attention_logits = matmul_qk / torch.sqrt(dk)\n",
    "\n",
    "    if mask is not None:\n",
    "        scaled_attention_logits += (mask * -1e9)\n",
    "\n",
    "    attention_weights = torch.nn.functional.softmax(scaled_attention_logits, dim=-1)\n",
    "    output = torch.matmul(attention_weights, v)  # (..., seq_len_q, depth_v)\n",
    "\n",
    "    return output, attention_weights"
   ]
  },
  {
   "cell_type": "code",
   "execution_count": null,
   "metadata": {},
   "outputs": [],
   "source": [
    "class MultiHeadAttention(nn.Module):\n",
    "    def __init__(self, d_model, num_heads):\n",
    "        super(MultiHeadAttention, self).__init__()\n",
    "        self.num_heads = num_heads\n",
    "        self.d_model = d_model\n",
    "        assert d_model % self.num_heads == 0\n",
    "        self.depth = d_model // self.num_heads\n",
    "        \n",
    "        self.wq = nn.Linear(d_model, d_model)\n",
    "        self.wk = nn.Linear(d_model, d_model)\n",
    "        self.wv = nn.Linear(d_model, d_model)\n",
    "        self.dense = nn.Linear(d_model, d_model)\n",
    "    \n",
    "    def split_heads(self, x, batch_size):\n",
    "        x = x.view(batch_size, -1, self.num_heads, self.depth)\n",
    "        return x.permute(0, 2, 1, 3)\n",
    "    \n",
    "    def forward(self, v, k, q, mask=None):\n",
    "        batch_size = q.size(0)\n",
    "\n",
    "        q = self.wq(q)  # (batch_size, seq_len, d_model)\n",
    "        k = self.wk(k)  # (batch_size, seq_len, d_model)\n",
    "        v = self.wv(v)  # (batch_size, seq_len, d_model)\n",
    "\n",
    "        q = self.split_heads(q, batch_size)  # (batch_size, num_heads, seq_len_q, depth)\n",
    "        k = self.split_heads(k, batch_size)  # (batch_size, num_heads, seq_len_k, depth)\n",
    "        v = self.split_heads(v, batch_size)  # (batch_size, num_heads, seq_len_v, depth)\n",
    "\n",
    "        scaled_attention, attention_weights = scaled_dot_product_attention(q, k, v, mask)\n",
    "        scaled_attention = scaled_attention.permute(0, 2, 1, 3)  # (batch_size, seq_len_q, num_heads, depth)\n",
    "\n",
    "        concat_attention = scaled_attention.contiguous().view(batch_size, -1, self.d_model)  # (batch_size, seq_len_q, d_model)\n",
    "\n",
    "        output = self.dense(concat_attention)  # (batch_size, seq_len_q, d_model)\n",
    "        return output, attention_weights"
   ]
  }
 ],
 "metadata": {
  "kernelspec": {
   "display_name": "VisualTransformerProject",
   "language": "python",
   "name": "python3"
  },
  "language_info": {
   "codemirror_mode": {
    "name": "ipython",
    "version": 3
   },
   "file_extension": ".py",
   "mimetype": "text/x-python",
   "name": "python",
   "nbconvert_exporter": "python",
   "pygments_lexer": "ipython3",
   "version": "3.11.5"
  }
 },
 "nbformat": 4,
 "nbformat_minor": 2
}
